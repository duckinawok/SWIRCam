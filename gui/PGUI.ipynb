import tkinter as tk
from tkinter import filedialog, ttk, messagebox
from PIL import Image, ImageTk
import numpy as np
from skimage.filters import gaussian, sobel, median
from skimage.morphology import disk
import matplotlib.pyplot as plt
from matplotlib.backends.backend_tkagg import FigureCanvasTkAgg
from matplotlib.figure import Figure

# -------- Scrollable container for the sidebar --------
class ScrollableFrame(tk.Frame):
    def __init__(self, container, *args, **kwargs):
        super().__init__(container, *args, **kwargs)
        self.canvas = tk.Canvas(self, borderwidth=0, bg="#ddd", highlightthickness=0)
        scrollbar = tk.Scrollbar(self, orient="vertical", command=self.canvas.yview)
        self.scrollable_frame = tk.Frame(self.canvas, bg="#ddd")

        self.scrollable_frame.bind(
            "<Configure>",
            lambda e: self.canvas.configure(scrollregion=self.canvas.bbox("all"))
        )
        self._win = self.canvas.create_window((0, 0), window=self.scrollable_frame, anchor="nw")
        self.canvas.configure(yscrollcommand=scrollbar.set)

        self.canvas.pack(side="left", fill="both", expand=True)
        scrollbar.pack(side="right", fill="y")

        # Make sidebar responsive to width changes
        self.bind("<Configure>", self._on_configure)

    def _on_configure(self, event):
        # force the inner window to match the width of the outer canvas
        self.canvas.itemconfig(self._win, width=event.width)

# -------- One editor per tab --------
class ImageEditorTab:
    all_editors = []

    def __init__(self, notebook, filepath):
        self.notebook = notebook
        self.filepath = filepath

        # Base grayscale image (uint8). Keep grayscale internally.
        self.original_image = Image.open(filepath).convert("L")
        self.image = self.original_image.copy()    # committed image state (grayscale)
        self.preview_image = None                  # grayscale preview from filters, etc.

        # Undo/redo history (stores committed grayscale images)
        self.history = [self.image.copy()]
        self.history_index = 0

        # Live (non-destructive) controls
        self.zoom_factor = 1.0
        self.current_cmap = "gray"
        self.brightness = 1.0
        self.contrast = 1.0
        self.shift_px = 0  # horizontal shift for every second row

        # Subplot (embedded in Tk)
        self.subplot_window = None
        self.subplot_fig = None
        self.subplot_axes = None
        self.subplot_canvasTk = None

        # Tk tab/frame
        self.frame = tk.Frame(notebook)
        notebook.add(self.frame, text=filepath.split("/")[-1])

        # Paned window: resizable left sidebar + right canvas
        self.paned = tk.PanedWindow(self.frame, orient=tk.HORIZONTAL)
        self.paned.pack(fill="both", expand=True)

        # Sidebar (scrollable)
        self.sidebar = ScrollableFrame(self.paned, width=280)
        self.paned.add(self.sidebar, minsize=160)  # resizable by splitter

        # Canvas area to draw the image
        self.canvas = tk.Canvas(self.paned, bg="black")
        self.paned.add(self.canvas)

        self.build_sidebar()
        self.update_canvas()  # first draw

        ImageEditorTab.all_editors.append(self)

    # ----- Utilities -----
    @staticmethod
    def pil_to_np_u8(img_pil):
        return np.array(img_pil, dtype=np.uint8)

    @staticmethod
    def np_u8_to_pil(arr_u8):
        return Image.fromarray(arr_u8)

    # Compute the display array: start from committed/preview grayscale, then apply live adjustments
    def _compose_live_array(self):
        base = self.preview_image if self.preview_image is not None else self.image
        arr = self.pil_to_np_u8(base).astype(np.float32) / 255.0

        # live contrast (around mid-gray 0.5), then brightness (scale)
        arr = np.clip((arr - 0.5) * self.contrast + 0.5, 0.0, 1.0)
        arr = np.clip(arr * self.brightness, 0.0, 1.0)

        # live horizontal shift on every second row
        if self.shift_px != 0:
            arr[1::2] = np.roll(arr[1::2], self.shift_px, axis=1)

        return arr  # float32 in [0,1], grayscale

    def _colorize_for_tk(self, arr01):
        """
        Convert grayscale [0,1] to RGB using current matplotlib colormap (for Tk canvas display).
        """
        cmap = plt.get_cmap(self.current_cmap)
        rgb = cmap(arr01)[..., :3]  # drop alpha
        rgb_u8 = (np.clip(rgb, 0, 1) * 255).astype(np.uint8)
        return Image.fromarray(rgb_u8)

    # ----- History -----
    def push_history(self):
        self.history = self.history[:self.history_index + 1]
        self.history.append(self.image.copy())
        self.history_index += 1

    def undo(self):
        if self.history_index > 0:
            self.history_index -= 1
            self.image = self.history[self.history_index].copy()
            self.preview_image = None
            self.update_canvas()

    def redo(self):
        if self.history_index < len(self.history) - 1:
            self.history_index += 1
            self.image = self.history[self.history_index].copy()
            self.preview_image = None
            self.update_canvas()

    # ----- Sidebar UI -----
    def build_sidebar(self):
        sf = self.sidebar.scrollable_frame

        # File / resets
        tk.Button(sf, text="Save as PNG", command=self.save_as_png).pack(pady=4, fill="x")
        tk.Button(sf, text="Close Image", bg="#faa", command=self.close_tab).pack(pady=4, fill="x")
        tk.Button(sf, text="Flatten Preview", bg="#aaf", command=self.flatten_image).pack(pady=4, fill="x")
        tk.Button(sf, text="Reset Live (B/C/Shift/Zoom)", command=self.reset_live).pack(pady=4, fill="x")
        tk.Button(sf, text="Revert to Original", command=self.revert_to_original).pack(pady=4, fill="x")

        # History
        tk.Label(sf, text="History", bg="#ddd", font=("Arial", 10, "bold")).pack(pady=(8, 2), fill="x")
        tk.Button(sf, text="Undo", command=self.undo).pack(pady=2, fill="x")
        tk.Button(sf, text="Redo", command=self.redo).pack(pady=2, fill="x")

        # Zoom
        tk.Label(sf, text="Zoom", bg="#ddd", font=("Arial", 10, "bold")).pack(pady=(10, 2), fill="x")
        tk.Button(sf, text="Zoom In", command=self.zoom_in).pack(pady=2, fill="x")
        tk.Button(sf, text="Zoom Out", command=self.zoom_out).pack(pady=2, fill="x")
        tk.Button(sf, text="Original Size", command=self.reset_zoom).pack(pady=2, fill="x")

        # Transforms
        tk.Label(sf, text="Transforms", bg="#ddd", font=("Arial", 10, "bold")).pack(pady=(10, 2), fill="x")
        grid = tk.Frame(sf, bg="#ddd")
        grid.pack()
        tk.Button(grid, text="Flip H", command=self.flip_h).grid(row=0, column=0, padx=2, pady=2, sticky="ew")
        tk.Button(grid, text="Flip V", command=self.flip_v).grid(row=0, column=1, padx=2, pady=2, sticky="ew")
        tk.Button(grid, text="Rot ⟲", command=self.rotate_acw).grid(row=1, column=0, padx=2, pady=2, sticky="ew")
        tk.Button(grid, text="Rot ⟳", command=self.rotate_cw).grid(row=1, column=1, padx=2, pady=2, sticky="ew")

        # Live adjustments (NO Apply/Cancel)
        tk.Label(sf, text="Live Adjustments", bg="#ddd", font=("Arial", 10, "bold")).pack(pady=(10, 2), fill="x")

        tk.Label(sf, text="Brightness").pack(anchor="w", padx=6)
        self.brightness_var = tk.DoubleVar(value=1.0)
        tk.Scale(sf, from_=0.1, to=3.0, resolution=0.05, orient="horizontal",
                 variable=self.brightness_var,
                 command=self._on_brightness_change).pack(fill="x", padx=10)

        tk.Label(sf, text="Contrast").pack(anchor="w", padx=6)
        self.contrast_var = tk.DoubleVar(value=1.0)
        tk.Scale(sf, from_=0.1, to=3.0, resolution=0.05, orient="horizontal",
                 variable=self.contrast_var,
                 command=self._on_contrast_change).pack(fill="x", padx=10)

        tk.Label(sf, text="Shift (every 2nd row)").pack(anchor="w", padx=6)
        self.shift_var = tk.IntVar(value=0)
        tk.Scale(sf, from_=-50, to=50, orient="horizontal",
                 variable=self.shift_var,
                 command=self._on_shift_change).pack(fill="x", padx=10)

        # Filters (keep Preview + Apply/Cancel) — recomputed from COMMITTED image
        tk.Label(sf, text="Filters", bg="#ddd", font=("Arial", 10, "bold")).pack(pady=(10, 2), fill="x")

        # Gaussian
        tk.Label(sf, text="Gaussian Blur σ").pack(anchor="w", padx=6)
        self.gaussian_sigma = tk.DoubleVar(value=1.0)
        tk.Scale(sf, from_=0.0, to=10.0, resolution=0.1, orient="horizontal",
                 variable=self.gaussian_sigma,
                 command=lambda v: self.apply_gaussian(preview=True)).pack(fill="x", padx=10)
        self._add_apply_cancel(sf)

        # Sharpen
        tk.Label(sf, text="Sharpen").pack(anchor="w", padx=6)
        self.sharpen_amount = tk.DoubleVar(value=1.0)
        tk.Scale(sf, from_=0.0, to=3.0, resolution=0.1, orient="horizontal",
                 variable=self.sharpen_amount,
                 command=lambda v: self.apply_sharpen(preview=True)).pack(fill="x", padx=10)
        self._add_apply_cancel(sf)

        # Sobel
        tk.Button(sf, text="Preview Sobel",
                  command=lambda: self.apply_sobel(preview=True)).pack(pady=4, fill="x")
        self._add_apply_cancel(sf)

        # Median
        tk.Label(sf, text="Median (odd size)").pack(anchor="w", padx=6)
        self.median_size = tk.IntVar(value=3)
        tk.Scale(sf, from_=1, to=15, resolution=2, orient="horizontal",
                 variable=self.median_size,
                 command=lambda v: self.apply_median(preview=True)).pack(fill="x", padx=10)
        self._add_apply_cancel(sf)

        # Colormap (instant, display-only)
        tk.Label(sf, text="Colormap", bg="#ddd", font=("Arial", 10, "bold")).pack(pady=(10, 2), fill="x")
        self.cmap_var = tk.StringVar(value="gray")
        cmaps = ["gray", "inferno", "viridis", "plasma", "magma", "cividis"]
        cb = ttk.Combobox(sf, textvariable=self.cmap_var, values=cmaps, state="readonly")
        cb.pack(pady=4, fill="x")
        self.cmap_var.trace_add("write", lambda *_: self._on_cmap_change())

        # Visualization
        tk.Label(sf, text="Visualization", bg="#ddd", font=("Arial", 10, "bold")).pack(pady=(10, 2), fill="x")
        tk.Button(sf, text="Subplot Picker", command=self.show_subplots).pack(pady=4, fill="x")

    def _add_apply_cancel(self, parent):
        f = tk.Frame(parent, bg="#ddd")
        f.pack(pady=2)
        tk.Button(f, text="Apply", command=self.commit_preview).pack(side="left", padx=5)
        tk.Button(f, text="Cancel", command=self.cancel_preview).pack(side="left", padx=5)

    # ----- File actions -----
    def save_as_png(self):
        # Save exactly what you see (live adjustments + current cmap + preview if any)
        arr = self._compose_live_array()
        disp_pil = self._colorize_for_tk(arr)
        path = filedialog.asksaveasfilename(
            defaultextension=".png",
            filetypes=[("PNG files", "*.png")],
            initialfile=(self.filepath.rsplit("/", 1)[-1].rsplit(".", 1)[0] + ".png")
        )
        if path:
            disp_pil.save(path, format="PNG")
            messagebox.showinfo("Saved", f"Image saved as:\n{path}")

    # ----- Resets -----
    def reset_live(self):
        self.brightness_var.set(1.0)
        self.contrast_var.set(1.0)
        self.shift_var.set(0)
        self.zoom_factor = 1.0
        # keep current colormap as-is
        self.update_canvas()

    def revert_to_original(self):
        if messagebox.askyesno("Revert to Original", "Discard ALL edits and revert to the original image?"):
            self.image = self.original_image.copy()
            self.preview_image = None
            self.history = [self.image.copy()]
            self.history_index = 0
            self.reset_live()
            self.update_canvas()

    # ----- Close / Flatten -----
    def close_tab(self):
        self.notebook.forget(self.frame)
        if self in ImageEditorTab.all_editors:
            ImageEditorTab.all_editors.remove(self)
        if self.subplot_window and tk.Toplevel.winfo_exists(self.subplot_window):
            try:
                self.subplot_window.destroy()
            except:
                pass

    def flatten_image(self):
        # If there's a preview from filters, commit it.
        if self.preview_image is not None:
            self.image = self.preview_image.copy()
            self.preview_image = None
            self.push_history()
            self.update_canvas()

    # ----- Transforms (destructive, push history) -----
    def flip_h(self):
        self.image = self.image.transpose(Image.FLIP_LEFT_RIGHT)
        self.preview_image = None
        self.push_history()
        self.update_canvas()

    def flip_v(self):
        self.image = self.image.transpose(Image.FLIP_TOP_BOTTOM)
        self.preview_image = None
        self.push_history()
        self.update_canvas()

    def rotate_cw(self):
        self.image = self.image.rotate(-90, expand=True)
        self.preview_image = None
        self.push_history()
        self.update_canvas()

    def rotate_acw(self):
        self.image = self.image.rotate(90, expand=True)
        self.preview_image = None
        self.push_history()
        self.update_canvas()

    # ----- Live adjustment handlers -----
    def _on_brightness_change(self, v):
        self.brightness = float(self.brightness_var.get())
        self.update_canvas()

    def _on_contrast_change(self, v):
        self.contrast = float(self.contrast_var.get())
        self.update_canvas()

    def _on_shift_change(self, v):
        self.shift_px = int(self.shift_var.get())
        self.update_canvas()

    def _on_cmap_change(self):
        self.current_cmap = self.cmap_var.get()
        self.update_canvas()

    # ----- Filters (preview/apply/cancel) -----
    # IMPORTANT: recompute from COMMITTED image (no compounding on slider move)
    def apply_gaussian(self, preview=False):
        base = self.image  # <- committed only
        arr = self.pil_to_np_u8(base).astype(np.float32) / 255.0
        blurred = gaussian(arr, sigma=self.gaussian_sigma.get())
        out = (np.clip(blurred, 0, 1) * 255).astype(np.uint8)
        self.preview_image = self.np_u8_to_pil(out)
        self.update_canvas()

    def apply_sharpen(self, preview=False):
        base = self.image  # <- committed only
        arr = self.pil_to_np_u8(base).astype(np.float32) / 255.0
        soft = gaussian(arr, sigma=1.0)
        amount = float(self.sharpen_amount.get())
        sharpened = np.clip(arr + amount * (arr - soft), 0, 1)
        out = (sharpened * 255).astype(np.uint8)
        self.preview_image = self.np_u8_to_pil(out)
        self.update_canvas()

    def apply_sobel(self, preview=False):
        base = self.image  # <- committed only
        arr = self.pil_to_np_u8(base).astype(np.float32) / 255.0
        edges = sobel(arr)
        out = (np.clip(edges, 0, 1) * 255).astype(np.uint8)
        self.preview_image = self.np_u8_to_pil(out)
        self.update_canvas()

    def apply_median(self, preview=False):
        base = self.image  # <- committed only
        arr_u8 = self.pil_to_np_u8(base)
        med = median(arr_u8, disk(int(self.median_size.get())))
        self.preview_image = self.np_u8_to_pil(med.astype(np.uint8))
        self.update_canvas()

    def commit_preview(self):
        if self.preview_image is not None:
            self.image = self.preview_image.copy()
            self.preview_image = None
            self.push_history()
            self.update_canvas()

    def cancel_preview(self):
        if self.preview_image is not None:
            self.preview_image = None
            self.update_canvas()

    # ----- Zoom (display-only, respects current cmap & live adjustments) -----
    def zoom_in(self):
        self.zoom_factor *= 1.2
        self.update_canvas()

    def zoom_out(self):
        self.zoom_factor /= 1.2
        self.update_canvas()

    def reset_zoom(self):
        self.zoom_factor = 1.0
        self.update_canvas()

    # ----- Subplot Picker (embedded in Tk + click to switch tab) -----
    def show_subplots(self):
        if self.subplot_window and tk.Toplevel.winfo_exists(self.subplot_window):
            self.subplot_window.lift()
            return

        self.subplot_window = tk.Toplevel(self.frame)
        self.subplot_window.title("Subplot Picker")

        container = tk.Frame(self.subplot_window)
        container.pack(fill="both", expand=True)

        editors = ImageEditorTab.all_editors
        n = len(editors)
        self.subplot_fig = Figure(figsize=(5 * max(1, n), 5), dpi=100)
        self.subplot_axes = self.subplot_fig.subplots(1, max(1, n))
        if n == 1:
            self.subplot_axes = [self.subplot_axes]

        for ax, editor in zip(self.subplot_axes, editors):
            arr = editor._compose_live_array()
            ax.imshow(arr, cmap=editor.current_cmap)
            ax.set_title(editor.filepath.split("/")[-1], fontsize=10)
            ax.axis("off")
            ax._editor_ref = editor  # attach for click mapping

        self.subplot_canvasTk = FigureCanvasTkAgg(self.subplot_fig, master=container)
        self.subplot_canvasTk.draw()
        self.subplot_canvasTk.get_tk_widget().pack(fill="both", expand=True)

        def on_click(event):
            if event.inaxes is None:
                return
            ed = getattr(event.inaxes, "_editor_ref", None)
            if ed is not None:
                self.notebook.select(ed.frame)

        self.subplot_fig.canvas.mpl_connect("button_press_event", on_click)

    # ----- Drawing on Tk canvas -----
    def update_canvas(self):
        # Compose current view (grayscale with live adj), then colorize for Tk
        arr01 = self._compose_live_array()
        disp_pil = self._colorize_for_tk(arr01)

        # Apply zoom by resizing the PIL we display
        w, h = disp_pil.size
        wz, hz = max(1, int(w * self.zoom_factor)), max(1, int(h * self.zoom_factor))
        resized = disp_pil.resize((wz, hz), resample=Image.NEAREST)

        tk_img = ImageTk.PhotoImage(resized)
        self.canvas.delete("all")
        self.canvas.create_image(0, 0, anchor="nw", image=tk_img)
        self.canvas.image = tk_img  # prevent GC
        self.canvas.config(scrollregion=(0, 0, wz, hz))

        # Update subplot picker live if open
        if self.subplot_window and tk.Toplevel.winfo_exists(self.subplot_window) and self.subplot_axes is not None:
            editors = ImageEditorTab.all_editors
            # If tab count changed, rebuild fig for simplicity
            if len(self.subplot_axes) != len(editors):
                try:
                    self.subplot_canvasTk.get_tk_widget().destroy()
                except Exception:
                    pass
                self.subplot_window.destroy()
                self.subplot_window = None
                self.subplot_fig = None
                self.subplot_axes = None
                self.subplot_canvasTk = None
                return
            for ax, editor in zip(self.subplot_axes, editors):
                ax.images.clear()
                arr = editor._compose_live_array()
                ax.imshow(arr, cmap=editor.current_cmap)
                ax.set_title(editor.filepath.split("/")[-1], fontsize=10)
                ax.axis("off")
            if self.subplot_canvasTk:
                self.subplot_canvasTk.draw_idle()

# -------- App shell with tabs --------
class ImageEditorApp:
    def __init__(self, root):
        self.root = root
        self.root.title("PGM Editor")
        self.root.geometry("1400x900")  # larger initial window

        self.notebook = ttk.Notebook(root)
        self.notebook.pack(fill="both", expand=True)

        # Simple File menu
        menubar = tk.Menu(root)
        file_menu = tk.Menu(menubar, tearoff=0)
        file_menu.add_command(label="Open", command=self.open_file)
        file_menu.add_command(label="Close Current", command=self.close_current_tab)
        menubar.add_cascade(label="File", menu=file_menu)
        root.config(menu=menubar)

    def open_file(self):
        path = filedialog.askopenfilename(
            filetypes=[("PGM images", "*.pgm"), ("All files", "*.*")]
        )
        if path:
            tab = ImageEditorTab(self.notebook, path)
            tab.frame.editor = tab  # backref for close

    def close_current_tab(self):
        current = self.notebook.select()
        if not current:
            return
        widget = self.notebook.nametowidget(current)
        editor = getattr(widget, "editor", None)
        if editor:
            editor.close_tab()

if __name__ == "__main__":
    root = tk.Tk()
    app = ImageEditorApp(root)
    root.mainloop()
